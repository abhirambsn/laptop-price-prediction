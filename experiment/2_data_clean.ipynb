{
 "cells": [
  {
   "cell_type": "markdown",
   "metadata": {},
   "source": [
    "## Laptop Price Prediction (Data Cleaning)"
   ]
  },
  {
   "cell_type": "markdown",
   "metadata": {},
   "source": [
    "### Imports"
   ]
  },
  {
   "cell_type": "code",
   "execution_count": null,
   "metadata": {},
   "outputs": [],
   "source": [
    "import pandas as pd\n",
    "import numpy as np\n",
    "import seaborn as sns\n",
    "import matplotlib.pyplot as plt\n",
    "import os\n",
    "\n",
    "from pathlib import Path"
   ]
  },
  {
   "cell_type": "markdown",
   "metadata": {},
   "source": [
    "### Load Data"
   ]
  },
  {
   "cell_type": "code",
   "execution_count": null,
   "metadata": {},
   "outputs": [],
   "source": [
    "dataset = pd.read_csv(Path(os.getcwd()).parent / 'data' / 'dataset.csv')"
   ]
  },
  {
   "cell_type": "code",
   "execution_count": null,
   "metadata": {},
   "outputs": [],
   "source": [
    "dataset.head()"
   ]
  },
  {
   "cell_type": "code",
   "execution_count": null,
   "metadata": {},
   "outputs": [],
   "source": [
    "# Print null value counts of all columns in dataset, print all columns with null values greater than 0\n",
    "def get_null_cols(dataset):\n",
    "   cls = list(dataset.columns)\n",
    "   nvs = list(dataset.isnull().sum())\n",
    "   for i in range(len(cls)):\n",
    "      if nvs[i] > 0:\n",
    "         print(cls[i], nvs[i])\n",
    "   return cls, nvs"
   ]
  },
  {
   "cell_type": "code",
   "execution_count": null,
   "metadata": {},
   "outputs": [],
   "source": [
    "# Get All Columns whose null value count is greater than 1100\n",
    "cls,nvs = get_null_cols(dataset)\n",
    "cols = ['Manufacturer', 'Series', 'Batteries Included', 'Batteries Required', 'Battery cell composition', 'Device type', 'Package Dimensions', 'Mounting Hardware', 'Product Dimensions', 'Voltage', 'Wattage', 'Model', 'Model Name', 'Model Year', 'Power Source', 'Optical Drive Type', 'Are Batteries Included', 'Number of Lithium Ion Cells', 'Lithium Battery Energy Content', 'Item model number', 'Graphics Card Description', 'Graphics RAM Type', 'Graphics Card Interface', 'Connectivity Type', 'Included Components', 'Computer Memory Type', 'Speaker Description', 'Wireless Type', 'Ram Memory Installed Size', 'RAM memory maximum size', 'Ram Memory Technology', 'Processor model number', 'Hardware Interface', 'Hardware Platform', 'Country of Origin', 'Rear Webcam Resolution', 'Hard Disk Rotational Speed', \"Memory Storage Capacity\", \"Chipset Type\", \"Graphics Coprocessor\", \"Number of items\", 'Flash Memory Installed Size', 'Total USB ports', 'Audio Output Type', 'Item Height', 'Item Width']\n",
    "for i in range(len(cls)):\n",
    "   if nvs[i] > 1100:\n",
    "      cols.append(cls[i])"
   ]
  },
  {
   "cell_type": "code",
   "execution_count": null,
   "metadata": {},
   "outputs": [],
   "source": [
    "dataset = dataset.drop(cols, axis=1)"
   ]
  },
  {
   "cell_type": "code",
   "execution_count": null,
   "metadata": {},
   "outputs": [],
   "source": [
    "def standardize_color(color: str):\n",
    "    if color == np.nan or 'black' in color.lower() or 'carbon' in color.lower():\n",
    "        return 'Black'\n",
    "    elif 'silver' in color.lower() or 'moon' in color.lower():\n",
    "        return 'Silver'\n",
    "    elif 'grey' in color.lower() or 'gray' in color.lower() or 'graphite' in color.lower():\n",
    "        return 'Grey'\n",
    "    elif 'blue' in color.lower():\n",
    "        return 'Blue'\n",
    "    return color.split(' ')[-1].capitalize()"
   ]
  },
  {
   "cell_type": "code",
   "execution_count": null,
   "metadata": {},
   "outputs": [],
   "source": [
    "dataset.Colour = dataset.Colour.fillna('Black')\n",
    "dataset.Colour = dataset.Colour.apply(standardize_color)"
   ]
  },
  {
   "cell_type": "code",
   "execution_count": null,
   "metadata": {},
   "outputs": [],
   "source": [
    "def process_ff(ff: str):\n",
    "    ff = ff.lower()\n",
    "    if ff == 'thin and light' or ff == 'thin & light' or ff == 'thin & light laptop':\n",
    "        return 'thin and light'\n",
    "    elif ff == 'laptop, chromebook':\n",
    "        return 'chromebook'\n",
    "    elif ff == 'gaming laptop' or ff == 'gaming':\n",
    "        return 'gaming'\n",
    "    return ff"
   ]
  },
  {
   "cell_type": "code",
   "execution_count": null,
   "metadata": {},
   "outputs": [],
   "source": [
    "# Drop all records who have Form Factor as Table Stand\n",
    "dataset = dataset[dataset['Form Factor'] != 'Table Stand']\n",
    "\n",
    "dataset['Form Factor'] = dataset['Form Factor'].fillna('laptop')\n",
    "dataset['Form Factor'] = dataset['Form Factor'].apply(process_ff)"
   ]
  },
  {
   "cell_type": "code",
   "execution_count": null,
   "metadata": {},
   "outputs": [],
   "source": [
    "dataset['Form Factor'].unique()"
   ]
  },
  {
   "cell_type": "code",
   "execution_count": null,
   "metadata": {},
   "outputs": [],
   "source": [
    "dataset.rename(columns={'Standing screen display size': \"Screen Resolution\"})"
   ]
  },
  {
   "cell_type": "code",
   "execution_count": null,
   "metadata": {},
   "outputs": [],
   "source": [
    "dataset['Screen Resolution'] = dataset['Screen Resolution'].fillna('720p')"
   ]
  },
  {
   "cell_type": "code",
   "execution_count": null,
   "metadata": {},
   "outputs": [],
   "source": [
    "dataset['Screen Resolution'].unique()"
   ]
  },
  {
   "cell_type": "code",
   "execution_count": null,
   "metadata": {},
   "outputs": [],
   "source": [
    "def process_screen_res(res: str):\n",
    "    if '720p' in res:\n",
    "        return 1280,720\n",
    "    elif '1080p' in res:\n",
    "        return 1920,1080\n",
    "    elif 'x' in res:\n",
    "        x,y = res.split('x', maxsplit=1)\n",
    "        y = y.lstrip(' ').split(' ')[0].strip('_')\n",
    "        x = x.strip('_').strip(' ')\n",
    "        if '_' in y:\n",
    "            y = y.split('_')[0]\n",
    "        return int(x), int(y)\n",
    "    elif '*' in res:\n",
    "        x,y = res.split('*', maxsplit=1)\n",
    "        y = y.lstrip(' ').split(' ')[0].strip('_')\n",
    "        x = x.strip('_').strip(' ')\n",
    "        return int(x), int(y)\n",
    "    return int(res), int(res)"
   ]
  },
  {
   "cell_type": "code",
   "execution_count": null,
   "metadata": {},
   "outputs": [],
   "source": [
    "X,Y = [],[]\n",
    "for i in range(len(dataset)):\n",
    "    x,y = process_screen_res(dataset['Screen Resolution'].iloc[i])\n",
    "    X.append(x)\n",
    "    Y.append(y)\n",
    "\n",
    "dataset['Screen_Resolution_X'] = X\n",
    "dataset['Screen_Resolution_Y'] = Y\n",
    "dataset.drop('Screen Resolution', axis=1, inplace=True)\n",
    "dataset.drop('Standing screen display size', axis=1, inplace=True)\n",
    "dataset.drop('Resolution', axis=1, inplace=True)\n",
    "dataset.drop('Batteries', axis=1, inplace=True)"
   ]
  },
  {
   "cell_type": "code",
   "execution_count": null,
   "metadata": {},
   "outputs": [],
   "source": [
    "def process_proc_type(tp: str):\n",
    "    tp1 = tp.lower()\n",
    "    if 'core i3' in tp1:\n",
    "        return 'Core i3'\n",
    "    elif 'core i5' in tp1:\n",
    "        return 'Core i5'\n",
    "    elif 'core i7' in tp1:\n",
    "        return 'Core i7'\n",
    "    elif 'core i9' in tp1:\n",
    "        return 'Core i9'\n",
    "    elif 'celeron' in tp1:\n",
    "        return 'Celeron'\n",
    "    elif 'ryzen 3' in tp1:\n",
    "        return 'Ryzen 3'\n",
    "    elif 'ryzen 5' in tp1:\n",
    "        return 'Ryzen 5'\n",
    "    elif 'ryzen 7' in tp1:\n",
    "        return 'Ryzen 7'\n",
    "    elif 'ryzen 9' in tp1:\n",
    "        return 'Ryzen 9'\n",
    "    elif 'athlon' in tp1:\n",
    "        return 'Athlon'\n",
    "    elif 'others' in tp1 or 'other' in tp1:\n",
    "        return 'Other'\n",
    "    return tp"
   ]
  },
  {
   "cell_type": "code",
   "execution_count": null,
   "metadata": {},
   "outputs": [],
   "source": [
    "dataset['Processor Brand'] = dataset['Processor Brand'].fillna('Other')\n",
    "dataset['Processor Type'] = dataset['Processor Type'].fillna('Other')\n",
    "dataset['Processor Type'] = dataset['Processor Type'].apply(process_proc_type)"
   ]
  },
  {
   "cell_type": "code",
   "execution_count": null,
   "metadata": {},
   "outputs": [],
   "source": [
    "def process_proc_speed(sp):\n",
    "    if isinstance(sp, str):\n",
    "        return float(sp.split(' ')[0])\n",
    "    return float(sp)"
   ]
  },
  {
   "cell_type": "code",
   "execution_count": null,
   "metadata": {},
   "outputs": [],
   "source": [
    "dataset['Processor Speed'] = dataset['Processor Speed'].astype('object')\n",
    "dataset['Processor Speed'] = dataset['Processor Speed'].fillna('0.0')\n",
    "dataset['Processor Speed'] = dataset['Processor Speed'].apply(process_proc_speed)\n",
    "dataset['Processor Speed'] = dataset['Processor Speed'].replace(0.0, round(dataset['Processor Speed'].mean(), 2))"
   ]
  },
  {
   "cell_type": "code",
   "execution_count": null,
   "metadata": {},
   "outputs": [],
   "source": [
    "dataset['Processor Count'] = dataset['Processor Count'].fillna(1)"
   ]
  },
  {
   "cell_type": "code",
   "execution_count": null,
   "metadata": {},
   "outputs": [],
   "source": [
    "dataset['RAM Size'] = dataset['RAM Size'].fillna('8')\n",
    "dataset['RAM Size'] = dataset['RAM Size'].astype('object')\n",
    "dataset['RAM Size'] = dataset['RAM Size'].apply(lambda x: int(x.split(' ')[0]))"
   ]
  },
  {
   "cell_type": "code",
   "execution_count": null,
   "metadata": {},
   "outputs": [],
   "source": [
    "dataset['Memory Technology'] = dataset['Memory Technology'].fillna('DDR4')\n",
    "dataset['Memory Technology'] = dataset['Memory Technology'].apply(lambda x: 'LPDDR5' if 'lpddr 5' in x.lower() else x)"
   ]
  },
  {
   "cell_type": "code",
   "execution_count": null,
   "metadata": {},
   "outputs": [],
   "source": [
    "dataset = dataset.drop('Maximum Memory Supported', axis=1)"
   ]
  },
  {
   "cell_type": "code",
   "execution_count": null,
   "metadata": {},
   "outputs": [],
   "source": [
    "def process_mem_speed(spd):\n",
    "    if isinstance(spd, str):\n",
    "        if 'ghz' in spd.lower():\n",
    "            speed = spd.split(' ')[0]\n",
    "            if len(speed) != 4:\n",
    "                return int(float(speed)*1000)\n",
    "            return int(speed)\n",
    "        return int(float(spd.split(' ')[0]))\n",
    "    return int(spd)"
   ]
  },
  {
   "cell_type": "code",
   "execution_count": null,
   "metadata": {},
   "outputs": [],
   "source": [
    "dataset['Memory Clock Speed'].unique()\n",
    "dataset['Memory Clock Speed'] = dataset['Memory Clock Speed'].fillna('2666')\n",
    "dataset['Memory Clock Speed'] = dataset['Memory Clock Speed'].apply(process_mem_speed)"
   ]
  },
  {
   "cell_type": "code",
   "execution_count": null,
   "metadata": {},
   "outputs": [],
   "source": [
    "dataset['Memory Clock Speed'].unique()"
   ]
  },
  {
   "cell_type": "code",
   "execution_count": null,
   "metadata": {},
   "outputs": [],
   "source": [
    "def process_hdd_size(size):\n",
    "    if isinstance(size, str):\n",
    "        if 'tb' in size.lower():\n",
    "            return int(size.split(' ')[0])*1000\n",
    "        return int(size.split(' ')[0])\n",
    "    return int(size)"
   ]
  },
  {
   "cell_type": "code",
   "execution_count": null,
   "metadata": {},
   "outputs": [],
   "source": [
    "dataset['Hard Drive Size'] = dataset['Hard Drive Size'].fillna('256 GB')\n",
    "dataset['Hard Drive Size'] = dataset['Hard Drive Size'].apply(process_hdd_size)\n",
    "dataset['Hard Drive Size'].unique()"
   ]
  },
  {
   "cell_type": "code",
   "execution_count": null,
   "metadata": {},
   "outputs": [],
   "source": [
    "dataset['Hard Disk Description'].unique()"
   ]
  },
  {
   "cell_type": "code",
   "execution_count": null,
   "metadata": {},
   "outputs": [],
   "source": [
    "dataset['Hard Disk Description'] = dataset['Hard Disk Description'].fillna('HDD')\n",
    "dataset['is_SSD'] = dataset['Hard Disk Description'].apply(lambda x: 1 if 'ssd' in x.lower() or 'sshd' in x.lower() else 0)\n",
    "dataset['is_HDD'] = dataset['Hard Disk Description'].apply(lambda x: 1 if 'hdd' in x.lower() or 'sshd' in x.lower() else 0)\n",
    "dataset = dataset.drop('Hard Disk Description', axis=1)"
   ]
  },
  {
   "cell_type": "code",
   "execution_count": null,
   "metadata": {},
   "outputs": [],
   "source": [
    "dataset = dataset.drop('Hard Drive Interface', axis=1)"
   ]
  },
  {
   "cell_type": "code",
   "execution_count": null,
   "metadata": {},
   "outputs": [],
   "source": [
    "dataset['Audio Details'] = dataset['Audio Details'].fillna('Headphones, Speakers')\n",
    "dataset['HeadphoneJack'] = dataset['Audio Details'].apply(lambda x: 1 if 'headphone' in x.lower() else 0)\n",
    "dataset = dataset.drop('Audio Details', axis=1)"
   ]
  },
  {
   "cell_type": "code",
   "execution_count": null,
   "metadata": {},
   "outputs": [],
   "source": [
    "dataset['Connector Type'] = dataset['Connector Type'].fillna('Wi-Fi, USB, Bluetooth')\n",
    "dataset['Wifi'] = dataset['Connector Type'].apply(lambda x: 1 if 'wi-fi' in x.lower() else 0)\n",
    "dataset['Bluetooth'] = dataset['Connector Type'].apply(lambda x: 1 if 'bluetooth' in x.lower() else 0)\n",
    "dataset['HDMI'] = dataset['Connector Type'].apply(lambda x: 1 if 'hdmi' in x.lower() else 0)\n",
    "dataset['USB-C'] = dataset['Connector Type'].apply(lambda x: 1 if 'usb-c' in x.lower() else 0)\n",
    "dataset['Ethernet'] = dataset['Connector Type'].apply(lambda x: 1 if 'ethernet' in x.lower() else 0)\n",
    "dataset['Thunderbolt'] = dataset['Connector Type'].apply(lambda x: 1 if 'thunderbolt' in x.lower() else 0)\n",
    "dataset = dataset.drop('Connector Type', axis=1)"
   ]
  },
  {
   "cell_type": "code",
   "execution_count": null,
   "metadata": {},
   "outputs": [],
   "source": [
    "dataset['Graphics Chipset Brand'].unique()\n",
    "dataset['Graphics Chipset Brand'] = dataset['Graphics Chipset Brand'].fillna('Integrated')\n",
    "dataset['DedicatedGraphics'] = dataset['Graphics Chipset Brand'].apply(lambda x: 1 if 'nvidia' in x.lower() or 'iris' in x.lower() else 0)\n",
    "dataset['IntegratedGraphics'] = dataset['Graphics Chipset Brand'].apply(lambda x: 1 if 'intel' in x.lower() or 'amd' in x.lower() or 'iris' in x.lower() or 'integrated' in x.lower() else 0)\n",
    "dataset.drop('Graphics Chipset Brand', axis=1, inplace=True)"
   ]
  },
  {
   "cell_type": "code",
   "execution_count": null,
   "metadata": {},
   "outputs": [],
   "source": [
    "dataset['Number of USB 2.0 Ports'] = dataset['Number of USB 2.0 Ports'].fillna(0)\n",
    "dataset['Number of USB 3.0 Ports'] = dataset['Number of USB 3.0 Ports'].fillna(0)\n",
    "dataset['Number of HDMI Ports'] = dataset['Number of HDMI Ports'].fillna(0)"
   ]
  },
  {
   "cell_type": "code",
   "execution_count": null,
   "metadata": {},
   "outputs": [],
   "source": [
    "dataset['Operating System'] = dataset['Operating System'].fillna('Windows')\n",
    "dataset['Operating System'] = dataset['Operating System'].apply(lambda x: 'Windows' if 'windows' in x.lower() else 'MacOS' if 'macos' in x.lower() else 'ChromeOS' if 'chrome' in x.lower() else 'Linux' if 'linux' in x.lower() else 'Other')\n",
    "dataset['Operating System'].unique()"
   ]
  },
  {
   "cell_type": "code",
   "execution_count": null,
   "metadata": {},
   "outputs": [],
   "source": [
    "def process_graphics_ram(gram):\n",
    "    if isinstance(gram, str):\n",
    "        if 'gb' in gram.lower():\n",
    "            size = gram.split(' ')[0]\n",
    "            if len(size) == 3:\n",
    "                return float(size)\n",
    "            return float(size)*1024\n",
    "        return float(gram.split(' ')[0])\n",
    "    return float(gram)*1024"
   ]
  },
  {
   "cell_type": "code",
   "execution_count": null,
   "metadata": {},
   "outputs": [],
   "source": [
    "dataset['Graphics Card Ram Size'].unique()\n",
    "dataset['Graphics Card Ram Size'] = dataset['Graphics Card Ram Size'].fillna(dataset['RAM Size'])\n",
    "dataset['Graphics Card Ram Size'] = dataset['Graphics Card Ram Size'].apply(process_graphics_ram)"
   ]
  },
  {
   "cell_type": "code",
   "execution_count": null,
   "metadata": {},
   "outputs": [],
   "source": [
    "dataset.rename({'Graphics Card Ram Size': 'GraphicsCardRAM'}, inplace=True, axis=1)"
   ]
  },
  {
   "cell_type": "code",
   "execution_count": null,
   "metadata": {},
   "outputs": [],
   "source": [
    "dataset['Display Type'].unique()"
   ]
  },
  {
   "cell_type": "code",
   "execution_count": null,
   "metadata": {},
   "outputs": [],
   "source": [
    "dataset['Display Type'] = dataset['Display Type'].fillna('LCD')"
   ]
  },
  {
   "cell_type": "code",
   "execution_count": null,
   "metadata": {},
   "outputs": [],
   "source": [
    "dataset['Average Battery Life (in hours)'].unique()\n",
    "dataset['Average Battery Life (in hours)'] = dataset['Average Battery Life (in hours)'].fillna('0')\n",
    "dataset['Average Battery Life (in hours)'] = dataset['Average Battery Life (in hours)'].apply(lambda x: float(x.split(' ')[0]))\n",
    "dataset['Average Battery Life (in hours)'] = dataset['Average Battery Life (in hours)'].replace(0.0, round(dataset['Average Battery Life (in hours)'].mean(), 2))\n",
    "dataset.rename(columns={'Average Battery Life (in hours)': 'BatteryLife'}, inplace=True)"
   ]
  },
  {
   "cell_type": "code",
   "execution_count": null,
   "metadata": {},
   "outputs": [],
   "source": [
    "dataset['Software included'].unique()"
   ]
  },
  {
   "cell_type": "code",
   "execution_count": null,
   "metadata": {},
   "outputs": [],
   "source": [
    "dataset['Special Features'] = dataset['Special Features'].fillna('')\n",
    "dataset['Touchscreen'] = dataset['Special Features'].apply(lambda x: 1 if 'touchscreen' in x.lower() else 0)\n",
    "dataset['Fingerprint'] = dataset['Special Features'].apply(lambda x: 1 if 'fingerprint' in x.lower() else 0)\n",
    "dataset['Webcam'] = dataset['Special Features'].apply(lambda x: 1 if 'webcam' in x.lower() or 'camera' in x.lower() else 0)\n",
    "dataset['SDCard'] = dataset['Special Features'].apply(lambda x: 1 if 'memory card' in x.lower() else 0)\n",
    "dataset = dataset.drop('Special Features', axis=1)"
   ]
  },
  {
   "cell_type": "code",
   "execution_count": null,
   "metadata": {},
   "outputs": [],
   "source": [
    "dataset['Software included'] = dataset['Software included'].fillna('')\n",
    "dataset['MSOffice'] = dataset['Software included'].apply(lambda x: 1 if 'office' in x.lower() else 0)\n",
    "dataset['Antivirus'] = dataset['Software included'].apply(lambda x: 1 if 'antivirus' in x.lower() or 'security' in x.lower() or 'mcafee' in x.lower() else 0)\n",
    "dataset['XboxGamePass'] = dataset['Software included'].apply(lambda x: 1 if 'xbox' in x.lower() else 0)\n",
    "dataset = dataset.drop('Software included', axis=1)"
   ]
  },
  {
   "cell_type": "code",
   "execution_count": null,
   "metadata": {},
   "outputs": [],
   "source": [
    "dataset['Keyboard Description'] = dataset['Keyboard Description'].fillna('Standard')\n",
    "dataset['BacklitKeyboard'] = dataset['Keyboard Description'].apply(lambda x: 1 if 'backlit' in x.lower() else 0)\n",
    "dataset['RGBKeyboard'] = dataset['Keyboard Description'].apply(lambda x: 1 if 'rgb' in x.lower() else 0)\n",
    "dataset = dataset.drop('Keyboard Description', axis=1)"
   ]
  },
  {
   "cell_type": "code",
   "execution_count": null,
   "metadata": {},
   "outputs": [],
   "source": [
    "dataset['Device interface - primary'] = dataset['Device interface - primary'].fillna('Keyboard, Microphone')\n",
    "dataset['Touchscreen'] = dataset['Device interface - primary'].apply(lambda x: 1 if 'touchscreen' in x.lower() else 0)\n",
    "dataset['Stylus'] = dataset['Device interface - primary'].apply(lambda x: 1 if 'stylus' in x.lower() else 0)\n",
    "dataset['Microphone'] = dataset['Device interface - primary'].apply(lambda x: 1 if 'microphone' in x.lower() else 0)\n",
    "dataset['Numpad'] = dataset['Device interface - primary'].apply(lambda x: 1 if 'numeric keypad' in x.lower() else 0)\n",
    "dataset = dataset.drop('Device interface - primary', axis=1)"
   ]
  },
  {
   "cell_type": "code",
   "execution_count": null,
   "metadata": {},
   "outputs": [],
   "source": [
    "def process_price(p: str):\n",
    "    if isinstance(p, str):\n",
    "        return float(p.replace(',', ''))\n",
    "    return float(p)"
   ]
  },
  {
   "cell_type": "code",
   "execution_count": null,
   "metadata": {},
   "outputs": [],
   "source": [
    "dataset['Price'] = dataset['Price'].apply(process_price)"
   ]
  },
  {
   "cell_type": "markdown",
   "metadata": {},
   "source": [
    "### Final Cleaned Dataset"
   ]
  },
  {
   "cell_type": "code",
   "execution_count": null,
   "metadata": {},
   "outputs": [],
   "source": [
    "dataset.head()"
   ]
  }
 ],
 "metadata": {
  "kernelspec": {
   "display_name": "Python 3",
   "language": "python",
   "name": "python3"
  },
  "language_info": {
   "codemirror_mode": {
    "name": "ipython",
    "version": 3
   },
   "file_extension": ".py",
   "mimetype": "text/x-python",
   "name": "python",
   "nbconvert_exporter": "python",
   "pygments_lexer": "ipython3",
   "version": "3.9.18"
  }
 },
 "nbformat": 4,
 "nbformat_minor": 2
}
