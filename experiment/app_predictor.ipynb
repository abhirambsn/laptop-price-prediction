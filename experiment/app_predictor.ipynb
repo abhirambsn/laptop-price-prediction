{
 "cells": [
  {
   "cell_type": "code",
   "execution_count": 82,
   "metadata": {},
   "outputs": [
    {
     "data": {
      "text/plain": [
       "'C/UTF-8/C/C/C/C'"
      ]
     },
     "execution_count": 82,
     "metadata": {},
     "output_type": "execute_result"
    }
   ],
   "source": [
    "from joblib import load\n",
    "import logging\n",
    "from pathlib import Path\n",
    "import os\n",
    "import pandas as pd\n",
    "import locale\n",
    "locale.setlocale(locale.LC_ALL, '')"
   ]
  },
  {
   "cell_type": "code",
   "execution_count": 96,
   "metadata": {},
   "outputs": [],
   "source": [
    "class Predictor:\n",
    "    def __init__(self, model_path, preprocessor_path):\n",
    "        self.logger = logging.getLogger(__name__)\n",
    "        try:\n",
    "            self.model = load(model_path)\n",
    "            self.preprocessor = load(preprocessor_path)\n",
    "        except Exception as e:\n",
    "            self.logger.error(\"Failed to load model or preprocessor: {}\".format(e))\n",
    "            raise e\n",
    "    \n",
    "    def parse_sample(self, sample):\n",
    "        keys = ['Product Name', 'Form Factor', 'Processor Brand', 'Processor Speed',\n",
    "                'Processor Count', 'RAM Size', 'Memory Clock Speed', 'Hard Drive Size',\n",
    "                'Operating System', 'GraphicsCardRAM', 'Number of HDMI Ports',\n",
    "                'BatteryLife', 'Display Type', 'is_SSD', 'HDMI',\n",
    "                'Thunderbolt', 'DedicatedGraphics', 'IntegratedGraphics', 'Fingerprint',\n",
    "                'BacklitKeyboard', 'RGBKeyboard', 'SoftwareIncluded', 'AdditionalInput',\n",
    "                'USB_Ports', 'ResolutionType']\n",
    "        \n",
    "        return pd.DataFrame([dict(zip(keys, sample))])\n",
    "    \n",
    "    def format_prediction(self, prediction):\n",
    "        return f'{int(round(prediction[0],2)*1000):,}'\n",
    "    \n",
    "    def predict(self, sample):\n",
    "        try:\n",
    "            sample = self.parse_sample(sample)\n",
    "            sample = self.preprocessor.transform(sample)\n",
    "            prediction = self.model.predict(sample)\n",
    "            return prediction\n",
    "        except Exception as e:\n",
    "            self.logger.error(\"Failed to predict: {}\".format(e))\n",
    "            raise e\n",
    "    "
   ]
  },
  {
   "cell_type": "code",
   "execution_count": 97,
   "metadata": {},
   "outputs": [],
   "source": [
    "prd = Predictor(Path(os.getcwd()).parent / \"models\" / \"random_forest_regressor_model.joblib\", Path(os.getcwd()).parent / \"models\" / \"preprocessor.joblib\")"
   ]
  },
  {
   "cell_type": "code",
   "execution_count": 98,
   "metadata": {},
   "outputs": [
    {
     "data": {
      "text/plain": [
       "'61,350'"
      ]
     },
     "execution_count": 98,
     "metadata": {},
     "output_type": "execute_result"
    }
   ],
   "source": [
    "sample = [\"\"\"Lenovo IdeaPad Flex 5 Intel Core i5-1235U 14\"(35.56cm) WUXGA IPS 2-in-1 Laptop (8GB/512GB SSD/Win 11/Office 2021/Backlit KB/Fingerprint/FHD Camera/Alexa/3 Month Game Pass/Storm Grey/1.5Kg),82R70068IN\"\"\",\n",
    "          \"thin and light\",\n",
    "          \"Intel\",\n",
    "          1.3,\n",
    "          10,\n",
    "          8,\n",
    "          2666,\n",
    "          512,\n",
    "          'Windows',\n",
    "          0,\n",
    "          1,\n",
    "          8,\n",
    "          'LCD',\n",
    "          1,\n",
    "          1,\n",
    "          0,\n",
    "          0,\n",
    "          1,\n",
    "          0,\n",
    "          1,\n",
    "          0,\n",
    "          1,\n",
    "          1,\n",
    "          3,\n",
    "          'FHD']\n",
    "prd.format_prediction(prd.predict(sample))"
   ]
  },
  {
   "cell_type": "code",
   "execution_count": null,
   "metadata": {},
   "outputs": [],
   "source": []
  },
  {
   "cell_type": "code",
   "execution_count": null,
   "metadata": {},
   "outputs": [],
   "source": []
  }
 ],
 "metadata": {
  "kernelspec": {
   "display_name": "Python 3",
   "language": "python",
   "name": "python3"
  },
  "language_info": {
   "codemirror_mode": {
    "name": "ipython",
    "version": 3
   },
   "file_extension": ".py",
   "mimetype": "text/x-python",
   "name": "python",
   "nbconvert_exporter": "python",
   "pygments_lexer": "ipython3",
   "version": "3.9.18"
  }
 },
 "nbformat": 4,
 "nbformat_minor": 2
}
